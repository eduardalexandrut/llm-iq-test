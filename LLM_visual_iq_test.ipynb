{
  "cells": [
    {
      "cell_type": "markdown",
      "metadata": {
        "id": "view-in-github",
        "colab_type": "text"
      },
      "source": [
        "<a href=\"https://colab.research.google.com/github/eduardalexandrut/llm-iq-test/blob/main/LLM_visual_iq_test.ipynb\" target=\"_parent\"><img src=\"https://colab.research.google.com/assets/colab-badge.svg\" alt=\"Open In Colab\"/></a>"
      ]
    },
    {
      "cell_type": "markdown",
      "source": [
        "# LLM Visual IQ Testing"
      ],
      "metadata": {
        "id": "3Ujs9hKcLwya"
      }
    },
    {
      "cell_type": "markdown",
      "source": [
        "## Introduction"
      ],
      "metadata": {
        "id": "BSxIizrPDyzg"
      }
    },
    {
      "cell_type": "markdown",
      "source": [
        "The purpouse of this notebook is to test several multimodal LLM on visual iq test.\n",
        "Let's start by installing the following packages:\n",
        "- `Transformers`: Provides pre-trained models and tokenizers for NLP and multimodal tasks. We’ll use it to load models and preprocess text and images for LLM testing.\n",
        "- `PIL`: Handles image loading and manipulation. We’ll use it to preprocess and display images in multimodal model evaluation.\n",
        "- `Datasets`: Offers easy access to standardized datasets from the Hugging Face Hub. We’ll use it to load datasets for training and evaluating models."
      ],
      "metadata": {
        "id": "RlXHlEQhL_Ht"
      }
    },
    {
      "cell_type": "code",
      "source": [
        "!pip install -U git+https://github.com/huggingface/transformers\n",
        "!pip install PIL\n",
        "!pip install datasets"
      ],
      "metadata": {
        "id": "RRR7rM0lOX0B",
        "colab": {
          "base_uri": "https://localhost:8080/"
        },
        "outputId": "a06e4578-f1c3-412b-d11d-81362bc756db"
      },
      "execution_count": 1,
      "outputs": [
        {
          "output_type": "stream",
          "name": "stdout",
          "text": [
            "Collecting git+https://github.com/huggingface/transformers\n",
            "  Cloning https://github.com/huggingface/transformers to /tmp/pip-req-build-ua2bf99d\n",
            "  Running command git clone --filter=blob:none --quiet https://github.com/huggingface/transformers /tmp/pip-req-build-ua2bf99d\n",
            "  Resolved https://github.com/huggingface/transformers to commit a06a0d12636756352494b99b5b264ac9955bc735\n",
            "  Installing build dependencies ... \u001b[?25l\u001b[?25hdone\n",
            "  Getting requirements to build wheel ... \u001b[?25l\u001b[?25hdone\n",
            "  Preparing metadata (pyproject.toml) ... \u001b[?25l\u001b[?25hdone\n",
            "Requirement already satisfied: filelock in /usr/local/lib/python3.10/dist-packages (from transformers==4.47.0.dev0) (3.16.1)\n",
            "Requirement already satisfied: huggingface-hub<1.0,>=0.23.2 in /usr/local/lib/python3.10/dist-packages (from transformers==4.47.0.dev0) (0.24.7)\n",
            "Requirement already satisfied: numpy>=1.17 in /usr/local/lib/python3.10/dist-packages (from transformers==4.47.0.dev0) (1.26.4)\n",
            "Requirement already satisfied: packaging>=20.0 in /usr/local/lib/python3.10/dist-packages (from transformers==4.47.0.dev0) (24.1)\n",
            "Requirement already satisfied: pyyaml>=5.1 in /usr/local/lib/python3.10/dist-packages (from transformers==4.47.0.dev0) (6.0.2)\n",
            "Requirement already satisfied: regex!=2019.12.17 in /usr/local/lib/python3.10/dist-packages (from transformers==4.47.0.dev0) (2024.9.11)\n",
            "Requirement already satisfied: requests in /usr/local/lib/python3.10/dist-packages (from transformers==4.47.0.dev0) (2.32.3)\n",
            "Collecting tokenizers<0.21,>=0.20 (from transformers==4.47.0.dev0)\n",
            "  Downloading tokenizers-0.20.3-cp310-cp310-manylinux_2_17_x86_64.manylinux2014_x86_64.whl.metadata (6.7 kB)\n",
            "Requirement already satisfied: safetensors>=0.4.1 in /usr/local/lib/python3.10/dist-packages (from transformers==4.47.0.dev0) (0.4.5)\n",
            "Requirement already satisfied: tqdm>=4.27 in /usr/local/lib/python3.10/dist-packages (from transformers==4.47.0.dev0) (4.66.6)\n",
            "Requirement already satisfied: fsspec>=2023.5.0 in /usr/local/lib/python3.10/dist-packages (from huggingface-hub<1.0,>=0.23.2->transformers==4.47.0.dev0) (2024.10.0)\n",
            "Requirement already satisfied: typing-extensions>=3.7.4.3 in /usr/local/lib/python3.10/dist-packages (from huggingface-hub<1.0,>=0.23.2->transformers==4.47.0.dev0) (4.12.2)\n",
            "Requirement already satisfied: charset-normalizer<4,>=2 in /usr/local/lib/python3.10/dist-packages (from requests->transformers==4.47.0.dev0) (3.4.0)\n",
            "Requirement already satisfied: idna<4,>=2.5 in /usr/local/lib/python3.10/dist-packages (from requests->transformers==4.47.0.dev0) (3.10)\n",
            "Requirement already satisfied: urllib3<3,>=1.21.1 in /usr/local/lib/python3.10/dist-packages (from requests->transformers==4.47.0.dev0) (2.2.3)\n",
            "Requirement already satisfied: certifi>=2017.4.17 in /usr/local/lib/python3.10/dist-packages (from requests->transformers==4.47.0.dev0) (2024.8.30)\n",
            "Downloading tokenizers-0.20.3-cp310-cp310-manylinux_2_17_x86_64.manylinux2014_x86_64.whl (3.0 MB)\n",
            "\u001b[2K   \u001b[90m━━━━━━━━━━━━━━━━━━━━━━━━━━━━━━━━━━━━━━━━\u001b[0m \u001b[32m3.0/3.0 MB\u001b[0m \u001b[31m25.7 MB/s\u001b[0m eta \u001b[36m0:00:00\u001b[0m\n",
            "\u001b[?25hBuilding wheels for collected packages: transformers\n",
            "  Building wheel for transformers (pyproject.toml) ... \u001b[?25l\u001b[?25hdone\n",
            "  Created wheel for transformers: filename=transformers-4.47.0.dev0-py3-none-any.whl size=10051734 sha256=165466adef7cce3462310dbf6cb471641625d6ca89508b267313dd3a7d474de8\n",
            "  Stored in directory: /tmp/pip-ephem-wheel-cache-kp2qzl5u/wheels/c0/14/d6/6c9a5582d2ac191ec0a483be151a4495fe1eb2a6706ca49f1b\n",
            "Successfully built transformers\n",
            "Installing collected packages: tokenizers, transformers\n",
            "  Attempting uninstall: tokenizers\n",
            "    Found existing installation: tokenizers 0.19.1\n",
            "    Uninstalling tokenizers-0.19.1:\n",
            "      Successfully uninstalled tokenizers-0.19.1\n",
            "  Attempting uninstall: transformers\n",
            "    Found existing installation: transformers 4.44.2\n",
            "    Uninstalling transformers-4.44.2:\n",
            "      Successfully uninstalled transformers-4.44.2\n",
            "Successfully installed tokenizers-0.20.3 transformers-4.47.0.dev0\n",
            "\u001b[31mERROR: Could not find a version that satisfies the requirement PIL (from versions: none)\u001b[0m\u001b[31m\n",
            "\u001b[0m\u001b[31mERROR: No matching distribution found for PIL\u001b[0m\u001b[31m\n",
            "\u001b[0mCollecting datasets\n",
            "  Downloading datasets-3.1.0-py3-none-any.whl.metadata (20 kB)\n",
            "Requirement already satisfied: filelock in /usr/local/lib/python3.10/dist-packages (from datasets) (3.16.1)\n",
            "Requirement already satisfied: numpy>=1.17 in /usr/local/lib/python3.10/dist-packages (from datasets) (1.26.4)\n",
            "Requirement already satisfied: pyarrow>=15.0.0 in /usr/local/lib/python3.10/dist-packages (from datasets) (17.0.0)\n",
            "Collecting dill<0.3.9,>=0.3.0 (from datasets)\n",
            "  Downloading dill-0.3.8-py3-none-any.whl.metadata (10 kB)\n",
            "Requirement already satisfied: pandas in /usr/local/lib/python3.10/dist-packages (from datasets) (2.2.2)\n",
            "Requirement already satisfied: requests>=2.32.2 in /usr/local/lib/python3.10/dist-packages (from datasets) (2.32.3)\n",
            "Requirement already satisfied: tqdm>=4.66.3 in /usr/local/lib/python3.10/dist-packages (from datasets) (4.66.6)\n",
            "Collecting xxhash (from datasets)\n",
            "  Downloading xxhash-3.5.0-cp310-cp310-manylinux_2_17_x86_64.manylinux2014_x86_64.whl.metadata (12 kB)\n",
            "Collecting multiprocess<0.70.17 (from datasets)\n",
            "  Downloading multiprocess-0.70.16-py310-none-any.whl.metadata (7.2 kB)\n",
            "Collecting fsspec<=2024.9.0,>=2023.1.0 (from fsspec[http]<=2024.9.0,>=2023.1.0->datasets)\n",
            "  Downloading fsspec-2024.9.0-py3-none-any.whl.metadata (11 kB)\n",
            "Requirement already satisfied: aiohttp in /usr/local/lib/python3.10/dist-packages (from datasets) (3.10.10)\n",
            "Requirement already satisfied: huggingface-hub>=0.23.0 in /usr/local/lib/python3.10/dist-packages (from datasets) (0.24.7)\n",
            "Requirement already satisfied: packaging in /usr/local/lib/python3.10/dist-packages (from datasets) (24.1)\n",
            "Requirement already satisfied: pyyaml>=5.1 in /usr/local/lib/python3.10/dist-packages (from datasets) (6.0.2)\n",
            "Requirement already satisfied: aiohappyeyeballs>=2.3.0 in /usr/local/lib/python3.10/dist-packages (from aiohttp->datasets) (2.4.3)\n",
            "Requirement already satisfied: aiosignal>=1.1.2 in /usr/local/lib/python3.10/dist-packages (from aiohttp->datasets) (1.3.1)\n",
            "Requirement already satisfied: attrs>=17.3.0 in /usr/local/lib/python3.10/dist-packages (from aiohttp->datasets) (24.2.0)\n",
            "Requirement already satisfied: frozenlist>=1.1.1 in /usr/local/lib/python3.10/dist-packages (from aiohttp->datasets) (1.5.0)\n",
            "Requirement already satisfied: multidict<7.0,>=4.5 in /usr/local/lib/python3.10/dist-packages (from aiohttp->datasets) (6.1.0)\n",
            "Requirement already satisfied: yarl<2.0,>=1.12.0 in /usr/local/lib/python3.10/dist-packages (from aiohttp->datasets) (1.17.0)\n",
            "Requirement already satisfied: async-timeout<5.0,>=4.0 in /usr/local/lib/python3.10/dist-packages (from aiohttp->datasets) (4.0.3)\n",
            "Requirement already satisfied: typing-extensions>=3.7.4.3 in /usr/local/lib/python3.10/dist-packages (from huggingface-hub>=0.23.0->datasets) (4.12.2)\n",
            "Requirement already satisfied: charset-normalizer<4,>=2 in /usr/local/lib/python3.10/dist-packages (from requests>=2.32.2->datasets) (3.4.0)\n",
            "Requirement already satisfied: idna<4,>=2.5 in /usr/local/lib/python3.10/dist-packages (from requests>=2.32.2->datasets) (3.10)\n",
            "Requirement already satisfied: urllib3<3,>=1.21.1 in /usr/local/lib/python3.10/dist-packages (from requests>=2.32.2->datasets) (2.2.3)\n",
            "Requirement already satisfied: certifi>=2017.4.17 in /usr/local/lib/python3.10/dist-packages (from requests>=2.32.2->datasets) (2024.8.30)\n",
            "Requirement already satisfied: python-dateutil>=2.8.2 in /usr/local/lib/python3.10/dist-packages (from pandas->datasets) (2.8.2)\n",
            "Requirement already satisfied: pytz>=2020.1 in /usr/local/lib/python3.10/dist-packages (from pandas->datasets) (2024.2)\n",
            "Requirement already satisfied: tzdata>=2022.7 in /usr/local/lib/python3.10/dist-packages (from pandas->datasets) (2024.2)\n",
            "Requirement already satisfied: six>=1.5 in /usr/local/lib/python3.10/dist-packages (from python-dateutil>=2.8.2->pandas->datasets) (1.16.0)\n",
            "Requirement already satisfied: propcache>=0.2.0 in /usr/local/lib/python3.10/dist-packages (from yarl<2.0,>=1.12.0->aiohttp->datasets) (0.2.0)\n",
            "Downloading datasets-3.1.0-py3-none-any.whl (480 kB)\n",
            "\u001b[2K   \u001b[90m━━━━━━━━━━━━━━━━━━━━━━━━━━━━━━━━━━━━━━━━\u001b[0m \u001b[32m480.6/480.6 kB\u001b[0m \u001b[31m9.5 MB/s\u001b[0m eta \u001b[36m0:00:00\u001b[0m\n",
            "\u001b[?25hDownloading dill-0.3.8-py3-none-any.whl (116 kB)\n",
            "\u001b[2K   \u001b[90m━━━━━━━━━━━━━━━━━━━━━━━━━━━━━━━━━━━━━━━━\u001b[0m \u001b[32m116.3/116.3 kB\u001b[0m \u001b[31m14.4 MB/s\u001b[0m eta \u001b[36m0:00:00\u001b[0m\n",
            "\u001b[?25hDownloading fsspec-2024.9.0-py3-none-any.whl (179 kB)\n",
            "\u001b[2K   \u001b[90m━━━━━━━━━━━━━━━━━━━━━━━━━━━━━━━━━━━━━━━━\u001b[0m \u001b[32m179.3/179.3 kB\u001b[0m \u001b[31m21.4 MB/s\u001b[0m eta \u001b[36m0:00:00\u001b[0m\n",
            "\u001b[?25hDownloading multiprocess-0.70.16-py310-none-any.whl (134 kB)\n",
            "\u001b[2K   \u001b[90m━━━━━━━━━━━━━━━━━━━━━━━━━━━━━━━━━━━━━━━━\u001b[0m \u001b[32m134.8/134.8 kB\u001b[0m \u001b[31m15.2 MB/s\u001b[0m eta \u001b[36m0:00:00\u001b[0m\n",
            "\u001b[?25hDownloading xxhash-3.5.0-cp310-cp310-manylinux_2_17_x86_64.manylinux2014_x86_64.whl (194 kB)\n",
            "\u001b[2K   \u001b[90m━━━━━━━━━━━━━━━━━━━━━━━━━━━━━━━━━━━━━━━━\u001b[0m \u001b[32m194.1/194.1 kB\u001b[0m \u001b[31m20.9 MB/s\u001b[0m eta \u001b[36m0:00:00\u001b[0m\n",
            "\u001b[?25hInstalling collected packages: xxhash, fsspec, dill, multiprocess, datasets\n",
            "  Attempting uninstall: fsspec\n",
            "    Found existing installation: fsspec 2024.10.0\n",
            "    Uninstalling fsspec-2024.10.0:\n",
            "      Successfully uninstalled fsspec-2024.10.0\n",
            "\u001b[31mERROR: pip's dependency resolver does not currently take into account all the packages that are installed. This behaviour is the source of the following dependency conflicts.\n",
            "gcsfs 2024.10.0 requires fsspec==2024.10.0, but you have fsspec 2024.9.0 which is incompatible.\u001b[0m\u001b[31m\n",
            "\u001b[0mSuccessfully installed datasets-3.1.0 dill-0.3.8 fsspec-2024.9.0 multiprocess-0.70.16 xxhash-3.5.0\n"
          ]
        }
      ]
    },
    {
      "cell_type": "markdown",
      "source": [
        "Now let's import the necessary modules from these packages:\n",
        "- `AutoTokenizer`: Responsible for converting input text into tokens that the model can process, adapting to the specific tokenization requirements of the model.\n",
        "- `AutoProcessor`: Used to preprocess inputs, often across modalities like text and image, ensuring compatibility with multimodal models.\n",
        "- `Image`: Used for opening, manipulating, and displaying image files, essential for handling image data in multimodal model testing.\n",
        "- `AutoModelForCausalLM`: Provides the pre-trained language model for generating predictions in a causal (autoregressive) manner, typically for text generation tasks.\n",
        "- `requests`: A module for sending HTTP requests, often used to fetch data from APIs or retrieve images and other resources over the internet.\n",
        "-`load_datasets`: Loads datasets from the Hugging Face Hub or local files, enabling access to standardized datasets for model training and evaluation."
      ],
      "metadata": {
        "id": "-F3r4nOVOe05"
      }
    },
    {
      "cell_type": "code",
      "source": [
        "from transformers import AutoTokenizer, AutoProcessor, AutoModelForCausalLM, set_seed\n",
        "from PIL import Image\n",
        "import requests\n",
        "from datasets import load_dataset\n",
        "import re\n",
        "import json"
      ],
      "metadata": {
        "id": "uflM6eUcQH5d"
      },
      "execution_count": 4,
      "outputs": []
    },
    {
      "cell_type": "code",
      "source": [
        "set_seed(42)"
      ],
      "metadata": {
        "id": "vT4xcgL4KJHN"
      },
      "execution_count": 5,
      "outputs": []
    },
    {
      "cell_type": "markdown",
      "source": [
        "## Dataset"
      ],
      "metadata": {
        "id": "iXCcR073D3eA"
      }
    },
    {
      "cell_type": "markdown",
      "source": [
        "Now we'll download `MENSA-visual-iq-test` from HuggingFace. This dataset contains several visual iq tests from MENSA. The dataset is made up of 3 subsets:\n",
        "\n",
        "- MENSA Norway: 35 instances.\n",
        "- MENSA Denmark: 38 instances.\n",
        "- MENSA Sweden: 25 instances.\n",
        "\n",
        "We'll use the `load_dataset` function that we've imported before to load the dataset:"
      ],
      "metadata": {
        "id": "UuVygzxyTj_0"
      }
    },
    {
      "cell_type": "code",
      "source": [
        "dataset = load_dataset(\"eduardtoni/MENSA-visual-iq-test\")"
      ],
      "metadata": {
        "colab": {
          "base_uri": "https://localhost:8080/"
        },
        "id": "QdG0gKtDVBvU",
        "outputId": "465f8e03-f239-4e08-db5a-e0d9cb51350a"
      },
      "execution_count": 6,
      "outputs": [
        {
          "output_type": "stream",
          "name": "stderr",
          "text": [
            "/usr/local/lib/python3.10/dist-packages/huggingface_hub/utils/_token.py:89: UserWarning: \n",
            "The secret `HF_TOKEN` does not exist in your Colab secrets.\n",
            "To authenticate with the Hugging Face Hub, create a token in your settings tab (https://huggingface.co/settings/tokens), set it as secret in your Google Colab and restart your session.\n",
            "You will be able to reuse this secret in all of your notebooks.\n",
            "Please note that authentication is recommended but still optional to access public models or datasets.\n",
            "  warnings.warn(\n"
          ]
        }
      ]
    },
    {
      "cell_type": "code",
      "source": [
        "dataset['train']"
      ],
      "metadata": {
        "colab": {
          "base_uri": "https://localhost:8080/"
        },
        "id": "8BC2vryAfVrr",
        "outputId": "bdb9702c-c8fa-4cd8-c0e9-e433c84c573e"
      },
      "execution_count": null,
      "outputs": [
        {
          "output_type": "execute_result",
          "data": {
            "text/plain": [
              "Dataset({\n",
              "    features: ['question_id', 'question_path', 'question_img', 'difficulty', 'subset', 'correct_answer_img', 'correct_answer', 'choices_letter', 'choices_images', 'multiple_answer_img', 'multiple_answer_path', 'explanations'],\n",
              "    num_rows: 98\n",
              "})"
            ]
          },
          "metadata": {},
          "execution_count": 6
        }
      ]
    },
    {
      "cell_type": "markdown",
      "source": [
        "Every entry in the dataset represents a question, and has the following features:\n",
        "\n",
        "- `question_id`: Unique identifier.\n",
        "- `question_path`: The path to the image representing the question.\n",
        "- `question_img`: A PIL image of the question.\n",
        "- `subset`: The subset of which the question is part of.\n",
        "- `difficulty`: An integer between 1 and 3 representing the difficulty of the question.\n",
        "- `correct_answer_img`: A PIL image of the correct answer image.\n",
        "- `correct_answer`: The path to the correct answer image.\n",
        "- `choiches_letter`: An array of characters with all the possible answers to a question (e.x. 'A', 'B', 'C',...)\n",
        "- `choiches_images`: An array containing the paths to the images of all possible answers to a question.\n",
        "- `multiple_answer_img`: A PIL image that contains all the possible answers to a question. Each one is labeled with corresponfing letter.\n",
        "- `multiple_answer_path`: The path to the multiple answer image.\n",
        "- `explanations`: An array containing different explanations for the reason why a specific answer is the correct one.\n",
        "\n",
        "The dataset has 98 instances in total."
      ],
      "metadata": {
        "id": "9OHLLQwyV0BK"
      }
    },
    {
      "cell_type": "code",
      "source": [
        "dataset['train'][0]['question_img']"
      ],
      "metadata": {
        "colab": {
          "base_uri": "https://localhost:8080/",
          "height": 497
        },
        "id": "AgpeMSzciBdA",
        "outputId": "b58c43c6-f327-4c77-a4a1-5c9ec282405c"
      },
      "execution_count": null,
      "outputs": [
        {
          "output_type": "execute_result",
          "data": {
            "text/plain": [
              "<PIL.PngImagePlugin.PngImageFile image mode=RGBA size=480x480>"
            ],
            "image/png": "[encoded data removed]"
          },
          "metadata": {},
          "execution_count": 7
        }
      ]
    },
    {
      "cell_type": "markdown",
      "source": [
        "This is a question image."
      ],
      "metadata": {
        "id": "KBiIFmwjiqBC"
      }
    },
    {
      "cell_type": "markdown",
      "source": [
        "The following image is the correct answer to the previous question."
      ],
      "metadata": {
        "id": "Y0QuAL2WjDaS"
      }
    },
    {
      "cell_type": "code",
      "source": [
        "dataset['train'][0]['correct_answer_img']"
      ],
      "metadata": {
        "colab": {
          "base_uri": "https://localhost:8080/",
          "height": 167
        },
        "id": "-RZ3tcKDi5kb",
        "outputId": "4b09ee7d-5d7e-4b40-f152-c00a7a0eb6f3"
      },
      "execution_count": null,
      "outputs": [
        {
          "output_type": "execute_result",
          "data": {
            "text/plain": [
              "<PIL.PngImagePlugin.PngImageFile image mode=RGBA size=150x150>"
            ],
            "image/png": "[encoded data removed]"
          },
          "metadata": {},
          "execution_count": 10
        }
      ]
    },
    {
      "cell_type": "markdown",
      "source": [
        "The following image is the multiple answer image of the previous question, containing all the possible labeled answers."
      ],
      "metadata": {
        "id": "hEF1QRjJjvSi"
      }
    },
    {
      "cell_type": "code",
      "source": [
        "dataset['train'][0]['multiple_answer_img']"
      ],
      "metadata": {
        "colab": {
          "base_uri": "https://localhost:8080/",
          "height": 387
        },
        "id": "GtLp3r1bjm1o",
        "outputId": "a596d1fa-e708-4b83-cda2-eb41a37b7560"
      },
      "execution_count": null,
      "outputs": [
        {
          "output_type": "execute_result",
          "data": {
            "text/plain": [
              "<PIL.PngImagePlugin.PngImageFile image mode=RGBA size=750x350>"
            ],
            "image/png": "[encoded data removed]"
          },
          "metadata": {},
          "execution_count": 12
        }
      ]
    },
    {
      "cell_type": "markdown",
      "source": [
        "## Helper Functions"
      ],
      "metadata": {
        "id": "F_I80kx4D6gd"
      }
    },
    {
      "cell_type": "markdown",
      "source": [
        "Next, we'll define some functions that will help us dealing with the work load."
      ],
      "metadata": {
        "id": "Y-X_ZIQeEMnR"
      }
    },
    {
      "cell_type": "markdown",
      "source": [
        "The first function we define is `convert_answer_to_json`. This function will take as input the answer generated by a model, and extract the json answer and create a json object."
      ],
      "metadata": {
        "id": "KHyaWdn0Etdy"
      }
    },
    {
      "cell_type": "code",
      "source": [
        "def convert_answer_to_json(answer):\n",
        "    assistant = '\\nassistant\\n'\n",
        "    parts = answer.split(assistant, 1)\n",
        "    res = parts[1].strip() if len(parts) > 1 else None\n",
        "\n",
        "    # Remove Markdown-style ```json``` delimiters if present\n",
        "    cleaned_string = re.sub(r\"```json|```\", \"\", res).strip() if res else None\n",
        "\n",
        "    if cleaned_string:\n",
        "        try:\n",
        "            json_object = json.loads(cleaned_string)  # Parse the cleaned string\n",
        "\n",
        "            # Clean the explanation field\n",
        "            if \"explanation\" in json_object:\n",
        "                json_object[\"explanation\"] = extract_and_clean_explanation(cleaned_string)\n",
        "\n",
        "            return json_object\n",
        "        except json.JSONDecodeError as e:\n",
        "            print(f\"JSON decode error: {e}\")\n",
        "            print(res)\n",
        "            return None\n",
        "    else:\n",
        "        return None"
      ],
      "metadata": {
        "id": "J85OZIfeEqQK"
      },
      "execution_count": 8,
      "outputs": []
    },
    {
      "cell_type": "markdown",
      "source": [
        "We ask the model to return the answer to the question and an explanation. The answer must be formatted in the following json structure:\n",
        "\n",
        "{\n",
        "\n",
        "  \"answer\": \"The letter corresponding to the answer\",\n",
        "\n",
        "  \"explanation\":\"The reason why the model has chosen this answer as the correct one.\"\n",
        "\n",
        "}\n",
        "\n",
        "Sometimes, even with prompt enginering, the models generate an answer that is not correctly formated and breaks the json structure, by intoducing double quotes`\"\"` inside the `explanation` field. The purpouse of the following function `extract_and_clean_explanation` is to clean up the `explanation` field by replacing double quotes with single quotes `''`."
      ],
      "metadata": {
        "id": "eUQ-6y5kFmW6"
      }
    },
    {
      "cell_type": "code",
      "source": [
        "def extract_and_clean_explanation(text):\n",
        "    # Locate the start of the explanation content\n",
        "    start = text.find('explanation\": \"') + len('explanation\": \"')\n",
        "\n",
        "    # Find the end quote of the explanation text\n",
        "    end = text.find('\"', start)\n",
        "\n",
        "    # Extract the content between the quotes\n",
        "    explanation_content = text[start:end]\n",
        "\n",
        "    # Remove all double quotes from the explanation content\n",
        "    cleaned_explanation = explanation_content.replace('\"', '')\n",
        "\n",
        "    return cleaned_explanation"
      ],
      "metadata": {
        "id": "8nNry0eNEjhJ"
      },
      "execution_count": 9,
      "outputs": []
    },
    {
      "cell_type": "markdown",
      "source": [
        "We define a function called `test_split()`. This function takes as input the following arguments:\n",
        "- `dataset`: The dataset on which the model will be tested.\n",
        "- `subset`: The subset of the dataset(Norway, Sweden, Denmark).\n",
        "- `start`: The start index.\n",
        "- `end`: The end index.\n",
        "- `model`: The model we will test.\n",
        "- `prompt`: The prompt that will be given to the model.\n",
        "- `processor`: The processor of the model.\n",
        "\n",
        "The function the returns an array of answers as json objects."
      ],
      "metadata": {
        "id": "l2_FrmnoJe_M"
      }
    },
    {
      "cell_type": "code",
      "source": [
        "def test_split(dataset, subset=None, start=None, end=None, model=None, prompt=None, processor=None):\n",
        "    # Select the dataset split\n",
        "    if subset is None:\n",
        "        dataset_subset = dataset['train']\n",
        "    else:\n",
        "        # Filter the 'train' subset based on the specified 'subset' value\n",
        "        dataset_subset = dataset['train'].filter(lambda x: x['subset'] == subset)\n",
        "\n",
        "    # Determine the range of indices\n",
        "    if start is None:\n",
        "        start = 0\n",
        "    if end is None:\n",
        "        end = len(dataset_subset)\n",
        "\n",
        "    answers_json = []\n",
        "    for i in range(start, end):\n",
        "        question_img = dataset_subset[i]['question_img']\n",
        "        answer_img = dataset_subset[i]['multiple_answer_img']\n",
        "\n",
        "        # Apply the provided prompt template if available, otherwise use a default\n",
        "        text_prompt = processor.apply_chat_template(prompt, add_generation_prompt=True)\n",
        "\n",
        "        # Prepare inputs with text and images\n",
        "        inputs = processor(\n",
        "            text=text_prompt,\n",
        "            images=[question_img, answer_img],\n",
        "            return_tensors=\"pt\"\n",
        "        )\n",
        "\n",
        "        # Send inputs to the appropriate device\n",
        "        inputs = inputs.to(\"cuda\")\n",
        "\n",
        "        # Generate output from the model\n",
        "        output_ids = model.generate(**inputs, max_new_tokens=512)\n",
        "\n",
        "        # Process generated text\n",
        "        generated_text = [\n",
        "            output_ids[len(input_ids):]\n",
        "            for input_ids, output_ids in zip(inputs.input_ids, output_ids)\n",
        "        ]\n",
        "        output_text = processor.batch_decode(output_ids, skip_special_tokens=True, clean_up_tokenization_spaces=True)\n",
        "\n",
        "        # Convert output to JSON\n",
        "        json_answer = convert_answer_to_json(output_text[0])\n",
        "        if json_answer:\n",
        "            json_answer['question_id'] = i\n",
        "            answers_json.append(json_answer)\n",
        "        else:\n",
        "            print(f\"No valid JSON found in the generated text from question {i}.\")\n",
        "\n",
        "    return answers_json"
      ],
      "metadata": {
        "id": "0bDFvVwNJq_C"
      },
      "execution_count": 2,
      "outputs": []
    },
    {
      "cell_type": "markdown",
      "source": [
        "The following `get_score` function gets the answers given by a LLM and returns a tuple made of the number of correct answers, the percentage of correct answers and the iq score obtained."
      ],
      "metadata": {
        "id": "DDN3VTOkOjNx"
      }
    },
    {
      "cell_type": "code",
      "source": [
        "def get_score(answers, dataset):\n",
        "  num_correct_answers = sum(answer['answer'] == dataset['train'][answer['question_id']]['correct_answer'] for answer in answers)\n",
        "  percentage_correct_answers = (num_correct_answers/len(answers)) * 100\n",
        "  iq_score = 0\n",
        "  return (num_correct_answers, percentage_correct_answers, iq_score)"
      ],
      "metadata": {
        "id": "NjOTOLJPVSDP"
      },
      "execution_count": 11,
      "outputs": []
    },
    {
      "cell_type": "markdown",
      "source": [
        "The following `save_results` function will be used to save the result of a test inside a json file. The object will have the following attributes:\n",
        "- `model`:\n",
        "- `prompt`:\n",
        "- `split`:\n",
        "- `answers`:\n",
        "- `correct_answers`:\n",
        "- `percentage_score`:\n",
        "- `iq_score`:"
      ],
      "metadata": {
        "id": "BUoORQY6adVF"
      }
    },
    {
      "cell_type": "code",
      "source": [
        "def save_results(model, prompt, split, answers, correct_answers, percentage_score, iq_score):\n",
        "  #Create json object representing a test.\n",
        "  result = {\n",
        "      'model': model,\n",
        "      'prompt': prompt,\n",
        "      'split': split,\n",
        "      'answers': answers,\n",
        "      'correct_answers': correct_answers,\n",
        "      'percentage_score': percentage_score,\n",
        "      'iq_score': iq_score\n",
        "  }\n",
        "\n",
        "  #Extract the name of the prompt used.\n",
        "  prompt_name = next(prompt.keys())\n",
        "\n",
        "  #Save result inside a json file.\n",
        "  with open(f\"/results/{model}/{prompt_name}.json\", \"w\") as out_file:\n",
        "    for ans in mensa_norway_answers:\n",
        "      json_line = json.dumps(ans)\n",
        "      out_file.write(json_line + \"\\n\")\n",
        "  return"
      ],
      "metadata": {
        "id": "EWquQsLGdeZo"
      },
      "execution_count": 10,
      "outputs": []
    },
    {
      "cell_type": "markdown",
      "source": [
        "## Prompts"
      ],
      "metadata": {
        "id": "DAfikpi3YAT-"
      }
    },
    {
      "cell_type": "markdown",
      "source": [
        "One of the goals of this paper is to try different prompts and prompting techniques, in order to see how it affects the performance of a model. The following dictionary `prompt` contains all the different prompts we will test:"
      ],
      "metadata": {
        "id": "VHppgE9eYCZx"
      }
    },
    {
      "cell_type": "code",
      "source": [
        "prompts = {\n",
        "    'prompt_1': [\n",
        "        {\n",
        "            'role': 'system',\n",
        "            'content': 'Please reason step by step'\n",
        "        },\n",
        "        {\n",
        "            'role': 'user',\n",
        "            'content': [\n",
        "                {\n",
        "                    'type': 'image',\n",
        "                },\n",
        "                {\n",
        "                    'type': 'text',\n",
        "                    'text': 'Analyze the previous image: a grid of images with one cell marked with the symbol ?. Identify any visual or logical patterns within rows and columns to understand what the missing cell should contain.'\n",
        "                },\n",
        "                {\n",
        "                    'type': 'image',\n",
        "                },\n",
        "                {\n",
        "                    'type': 'text',\n",
        "                    'text': 'Analyze the previous image: This image shows all possible answer choices. Each choice has a unique drawing labeled with a letter above it, which you can select from to complete the missing cell in the first image based on the identified pattern.'\n",
        "                },\n",
        "                {\n",
        "                    'type': 'text',\n",
        "                    'text': 'Using the two images, determine the pattern in the first image and select the letter above the drawing in the second image that best completes the missing cell. Return your answer in the following JSON format: {\"answer\": your selected letter, \"explanation\": your reasoning here}. Do not use \"\" symbols within the explanation inside the json.'\n",
        "                }\n",
        "            ]\n",
        "        }\n",
        "    ],\n",
        "    'prompt_2': [\n",
        "        {\n",
        "            'role': 'system',\n",
        "            'content': 'Please reason step by step'\n",
        "        },\n",
        "        {\n",
        "            'role': 'user',\n",
        "            'content': [\n",
        "                {\n",
        "                    'type': 'image',\n",
        "                },\n",
        "                {\n",
        "                    'type': 'text',\n",
        "                    'text': 'Analyze the previous image: a grid of images with one cell marked with the symbol ?. Identify any visual or logical patterns within rows and columns to understand what the missing cell should contain.'\n",
        "                },\n",
        "                {\n",
        "                    'type': 'image',\n",
        "                },\n",
        "                {\n",
        "                    'type': 'text',\n",
        "                    'text': 'Analyze the previous image: This image shows all possible answer choices. Each choice has a unique drawing labeled with a letter above it, which you can select from to complete the missing cell in the first image based on the identified pattern.'\n",
        "                },\n",
        "                {\n",
        "                    'type': 'text',\n",
        "                    'text': 'Using the two images, determine the pattern in the first image and select the letter above the drawing in the second image that best completes the missing cell. Return your answer in the following JSON format: {\"answer\": your selected letter}.'\n",
        "                }\n",
        "            ]\n",
        "        }\n",
        "    ]\n",
        "}"
      ],
      "metadata": {
        "id": "rQTqq7pIZR2p"
      },
      "execution_count": 12,
      "outputs": []
    },
    {
      "cell_type": "markdown",
      "source": [
        "## QwenV2"
      ],
      "metadata": {
        "id": "W00lto4ZCcYq"
      }
    },
    {
      "cell_type": "markdown",
      "source": [
        "The first model we will test is Qwen2-VL-2B-Instruct."
      ],
      "metadata": {
        "id": "lKwizxrvgIM7"
      }
    },
    {
      "cell_type": "code",
      "execution_count": 13,
      "metadata": {
        "id": "s8p9j369AYG8"
      },
      "outputs": [],
      "source": [
        "from transformers import Qwen2VLForConditionalGeneration"
      ]
    },
    {
      "cell_type": "markdown",
      "metadata": {
        "id": "RmEixGA_qbDh"
      },
      "source": [
        "Load Qwen2-VL-2B-Instruct model and encoder."
      ]
    },
    {
      "cell_type": "code",
      "execution_count": 14,
      "metadata": {
        "colab": {
          "base_uri": "https://localhost:8080/",
          "height": 104,
          "referenced_widgets": [
            "56e8d136f7a24a1fa5a9834e98938a03",
            "d59ce0370b224baa9848407dbb6a6e5b",
            "691807c8bf63462fafc8e8f18bd63298",
            "33bc54e345ac4a20a7cea96c7bc02a6a",
            "75d9d3f273e3402385840f3e44bf4e2d",
            "18bf52dca44d478981100d8a20c65382",
            "b4ec1c154f714235bb30e17138486426",
            "78caa6239baf4900afea7f72b50cd589",
            "8861d3c8f266454b90d9746af4c131fd",
            "3848ffe2ebe843f68fb904ab50b2d448",
            "9460975c49e242bc9fbaeba98c3c5c3a"
          ]
        },
        "id": "cL7RxHjAAqtT",
        "outputId": "43065e55-2ba2-4b83-c071-9ded8a5e3f95"
      },
      "outputs": [
        {
          "output_type": "stream",
          "name": "stderr",
          "text": [
            "The argument `trust_remote_code` is to be used with Auto classes. It has no effect here and is ignored.\n",
            "`Qwen2VLRotaryEmbedding` can now be fully parameterized by passing the model config through the `config` argument. All other arguments will be removed in v4.46\n"
          ]
        },
        {
          "output_type": "display_data",
          "data": {
            "text/plain": [
              "Loading checkpoint shards:   0%|          | 0/2 [00:00<?, ?it/s]"
            ],
            "application/vnd.jupyter.widget-view+json": {
              "version_major": 2,
              "version_minor": 0,
              "model_id": "56e8d136f7a24a1fa5a9834e98938a03"
            }
          },
          "metadata": {}
        }
      ],
      "source": [
        "model = Qwen2VLForConditionalGeneration.from_pretrained(\n",
        "    \"Qwen/Qwen2-VL-2B-Instruct\",\n",
        "    torch_dtype = \"auto\",\n",
        "    device_map = \"auto\",\n",
        "    trust_remote_code=True\n",
        ")\n",
        "processor = AutoProcessor.from_pretrained(\n",
        "    \"Qwen/Qwen2-VL-2B-Instruct\",\n",
        "    trust_remote_code=True\n",
        ")"
      ]
    },
    {
      "cell_type": "markdown",
      "metadata": {
        "id": "iL7KJCpZqqbf"
      },
      "source": []
    },
    {
      "cell_type": "code",
      "execution_count": null,
      "metadata": {
        "id": "cDLo19KrCYy9"
      },
      "outputs": [],
      "source": [
        "image = dataset['train'][0]['question_img']\n",
        "possible_sol = dataset['train'][0]['multiple_answer_img']\n",
        "messages = [\n",
        "        {'role': 'system', 'content': 'Please reason step by step'},\n",
        "        {'role': 'user',\n",
        "        'content': [\n",
        "            {\n",
        "                'type': 'image',\n",
        "            },\n",
        "            {\n",
        "                'type':'text',\n",
        "                'text':'Analyze the previous image: a grid of images with one cell marked with the symbol ?. Identify any visual or logical patterns within rows and columns to understand what the missing cell should contain.'\n",
        "            },\n",
        "            {\n",
        "                'type': 'image',\n",
        "            },\n",
        "            {\n",
        "                'type':'text',\n",
        "                'text':'Analyze the previous image:This image shows all possible answer choices. Each choice has a unique drawing labeled with a letter above it, which you can select from to complete the missing cell in the first image based on the identified pattern.'\n",
        "            },\n",
        "            {\n",
        "                'type': 'text',\n",
        "                'text': 'Using the two images, determine the pattern in the first image and select the letter above the drawing in the second image that best completes the missing cell. Return your answer in the following JSON format: {\"answer\": your selected letter, \"explanation\": your reasoning here)}. Do not use \\\"\\\" symbols within the explanation inside the json.'\n",
        "            }\n",
        "        ]\n",
        "    }\n",
        "]\n",
        "\n",
        "\n",
        "text_prompt = processor.apply_chat_template(messages, add_generation_prompt=True)\n",
        "inputs = processor(\n",
        "    text = text_prompt,\n",
        "    images = [image, possible_sol],\n",
        "    return_tensors = \"pt\"\n",
        ")\n",
        "\n",
        "# Inference: Generation of the output\n",
        "inputs = inputs.to(\"cuda\")\n",
        "output_ids = model.generate(**inputs, max_new_tokens = 1024)\n",
        "\n",
        "generated_text = [\n",
        "    output_ids[len(input_ids) :]\n",
        "    for input_ids, output_ids in zip(inputs.input_ids, output_ids)\n",
        "]\n",
        "output_text = processor.batch_decode(output_ids, skip_special_tokens=True,clean_up_tokenization_spaces=True)"
      ]
    },
    {
      "cell_type": "markdown",
      "metadata": {
        "id": "rdOYVs6qHQkl"
      },
      "source": []
    },
    {
      "cell_type": "markdown",
      "metadata": {
        "id": "vTWAyX3k1QzU"
      },
      "source": [
        "This is a function that given the output of an inference, returns a json object representing the response."
      ]
    },
    {
      "cell_type": "code",
      "execution_count": null,
      "metadata": {
        "colab": {
          "base_uri": "https://localhost:8080/"
        },
        "id": "TcsCNA2CHRGJ",
        "outputId": "c89e549a-17e5-4a8a-e694-06077cba3694"
      },
      "outputs": [
        {
          "output_type": "stream",
          "name": "stdout",
          "text": [
            "{'answer': 'D', 'explanation': 'The pattern in the first image is that the black square is always located in the center of the grid. By looking at the second image, we can see that the black square is in the center of the grid in both images. Therefore, the missing cell in the second image should also have a black square in the center.'}\n",
            "system\n",
            "Please reason step by step\n",
            "user\n",
            "Analyze the previous image: a grid of images with one cell marked with the symbol?. Identify any visual or logical patterns within rows and columns to understand what the missing cell should contain.Analyze the previous image:This image shows all possible answer choices. Each choice has a unique drawing labeled with a letter above it, which you can select from to complete the missing cell in the first image based on the identified pattern.Using the two images, determine the pattern in the first image and select the letter above the drawing in the second image that best completes the missing cell. Return your answer in the following JSON format: {\"answer\": your selected letter, \"explanation\": your reasoning here)}. Do not use \"\" symbols within the explanation inside the json.\n",
            "assistant\n",
            "```json\n",
            "{\n",
            "  \"answer\": \"D\",\n",
            "  \"explanation\": \"The pattern in the first image is that the black square is always located in the center of the grid. By looking at the second image, we can see that the black square is in the center of the grid in both images. Therefore, the missing cell in the second image should also have a black square in the center.\"\n",
            "}\n",
            "```\n"
          ]
        }
      ],
      "source": [
        "# Split and check\n",
        "print(convert_answer_to_json(output_text[0]))\n",
        "print(output_text[0])\n"
      ]
    },
    {
      "cell_type": "code",
      "execution_count": null,
      "metadata": {
        "id": "UsZ1C9Vip0H5"
      },
      "outputs": [],
      "source": [
        "def test_split(start, end, messages):\n",
        "  answers_json = []\n",
        "  for i in range(start,end):\n",
        "    question_img = dataset['train'][i]['question_img']\n",
        "    answer_img = dataset['train'][i]['multiple_answer_img']\n",
        "    text_prompt = processor.apply_chat_template(messages, add_generation_prompt=True)\n",
        "\n",
        "    inputs = processor(\n",
        "      text = text_prompt,\n",
        "      images = [question_img, answer_img],\n",
        "      return_tensors = \"pt\"\n",
        "    )\n",
        "\n",
        "    inputs = inputs.to(\"cuda\")\n",
        "    output_ids = model.generate(**inputs, max_new_tokens = 512)\n",
        "\n",
        "    generated_text = [\n",
        "      output_ids[len(input_ids) :]\n",
        "      for input_ids, output_ids in zip(inputs.input_ids, output_ids)\n",
        "    ]\n",
        "    output_text = processor.batch_decode(output_ids, skip_special_tokens=True,clean_up_tokenization_spaces=True)\n",
        "\n",
        "    # Convert to JSON\n",
        "    json_answer = convert_answer_to_json(output_text[0])\n",
        "    if json_answer:\n",
        "      json_answer['question_id'] = i\n",
        "      answers_json.append(json_answer)\n",
        "    else:\n",
        "      print(f\"No valid JSON found in the generated text from question {i}.\")\n",
        "     # answers_json.append(None)\n",
        "  return answers_json"
      ]
    },
    {
      "cell_type": "markdown",
      "metadata": {
        "id": "FCJnfnXrwZuK"
      },
      "source": [
        "Let's test the score on the whole dataset."
      ]
    },
    {
      "cell_type": "code",
      "execution_count": null,
      "metadata": {
        "colab": {
          "base_uri": "https://localhost:8080/"
        },
        "id": "wqKE7ogu0Grv",
        "outputId": "b6313b5e-7b87-4088-ccfe-ed2423d8d835"
      },
      "outputs": [
        {
          "data": {
            "text/plain": [
              "(20, 20.833333333333336, 0)"
            ]
          },
          "execution_count": 24,
          "metadata": {},
          "output_type": "execute_result"
        }
      ],
      "source": [
        "get_score(answers, dataset)"
      ]
    },
    {
      "cell_type": "markdown",
      "metadata": {
        "id": "PDWjd_UDwfd3"
      },
      "source": [
        "Now let's test the model only on MENSA Norway."
      ]
    },
    {
      "cell_type": "code",
      "execution_count": 18,
      "metadata": {
        "colab": {
          "base_uri": "https://localhost:8080/"
        },
        "id": "6ZkoLui-wn4p",
        "outputId": "6c4c5627-4f1d-43b2-f3ce-e18a9feb095f"
      },
      "outputs": [
        {
          "output_type": "stream",
          "name": "stdout",
          "text": [
            "Correct Answers: 4 | Correct Percentage: 11.428571428571429 | IQ: 0\n"
          ]
        }
      ],
      "source": [
        "mensa_norway_answers = test_split(dataset,'MENSA Norway', None, None, model, prompts['prompt_1'], processor)\n",
        "mensa_norway_score = get_score(mensa_norway_answers, dataset)\n",
        "print(f'Correct Answers: {mensa_norway_score[0]} | Correct Percentage: {mensa_norway_score[1]} | IQ: {mensa_norway_score[2]}' )"
      ]
    },
    {
      "cell_type": "markdown",
      "source": [
        "Let's write all the answers inside a json file:"
      ],
      "metadata": {
        "id": "0oYPgl9xwd2L"
      }
    },
    {
      "cell_type": "code",
      "source": [
        "\n",
        "with open(\"mensa-norway-answers.json\", \"w\") as out_file:\n",
        "  for ans in mensa_norway_answers:\n",
        "    json_line = json.dumps(ans)\n",
        "    out_file.write(json_line + \"\\n\")"
      ],
      "metadata": {
        "id": "kJufAsjSwp0_"
      },
      "execution_count": null,
      "outputs": []
    },
    {
      "cell_type": "markdown",
      "metadata": {
        "id": "X7KKQrQsxUXI"
      },
      "source": [
        "Now let's test the model only on MENSA Denmark."
      ]
    },
    {
      "cell_type": "code",
      "execution_count": 19,
      "metadata": {
        "colab": {
          "base_uri": "https://localhost:8080/",
          "height": 66,
          "referenced_widgets": [
            "d87b7cc6f888477c9c26bad34df26330",
            "c10b136e02d34505a621461da9642f57",
            "de063feb0db647ae945a4f31e49b3e06",
            "e8b0568ad1e24cbf8ffb16f7089cd316",
            "f95f06b0c7454a9693442b00380d0598",
            "9ae424d81cf6473aafd9acb1c53970e0",
            "3bc07372c551403faf5d2fefc132e64c",
            "3bde0398743e4fe695bbd32f9324a8ee",
            "c5f4a66827ee46b08953e6860b173627",
            "43a21442fac34e0994f5f756da31007b",
            "873c5afdd50345e7b8f9809e46ba999b"
          ]
        },
        "id": "CShiWIpgxqXk",
        "outputId": "bde8cd03-b159-49e7-e667-76a6b5262d0e"
      },
      "outputs": [
        {
          "output_type": "display_data",
          "data": {
            "text/plain": [
              "Filter:   0%|          | 0/98 [00:00<?, ? examples/s]"
            ],
            "application/vnd.jupyter.widget-view+json": {
              "version_major": 2,
              "version_minor": 0,
              "model_id": "d87b7cc6f888477c9c26bad34df26330"
            }
          },
          "metadata": {}
        },
        {
          "output_type": "stream",
          "name": "stdout",
          "text": [
            "Correct Answers: 6 | Correct Percentage: 15.384615384615385 | IQ: 0\n"
          ]
        }
      ],
      "source": [
        "mensa_denmark_answers = test_split(dataset,'MENSA Denmark', None, None, model, prompts['prompt_1'], processor)\n",
        "mensa_denmark_score = get_score(mensa_denmark_answers, dataset)\n",
        "print(f'Correct Answers: {mensa_denmark_score[0]} | Correct Percentage: {mensa_denmark_score[1]} | IQ: {mensa_denmark_score[2]}' )"
      ]
    },
    {
      "cell_type": "code",
      "source": [
        "with open(\"mensa-denmark-answers.json\", \"w\") as out_file:\n",
        "  for ans in mensa_denmark_answers:\n",
        "    json_line = json.dumps(ans)\n",
        "    out_file.write(json_line + \"\\n\")"
      ],
      "metadata": {
        "id": "2JTQ7B8I2k7b"
      },
      "execution_count": null,
      "outputs": []
    },
    {
      "cell_type": "markdown",
      "metadata": {
        "id": "tmpDmiQhyHoN"
      },
      "source": [
        "Now let's test the model on the MENSA Sweden."
      ]
    },
    {
      "cell_type": "code",
      "execution_count": 20,
      "metadata": {
        "id": "H-pShYBeyMXb",
        "colab": {
          "base_uri": "https://localhost:8080/",
          "height": 66,
          "referenced_widgets": [
            "ff09916e45f34d7a81799927a865c01b",
            "ee7e8d363f0e4583a9a9501664de0ae1",
            "324ea1f0b68b453fb2a7cae38581ea91",
            "351dafe747e24a44bfc1bb7ac62a49ca",
            "b75f524aee204c8a9be3702a322e2a22",
            "99b7ecba9986481e8f10b3c18f8f8dce",
            "986ffe00f7ba440b82953041058e5a82",
            "333b9cfc2398463d8632a37271a2e9a6",
            "5584b2f8c9ea4d61a1fed5dcfa9a2ce9",
            "bed89c30aa6c4817b03b95039a1c5d01",
            "9004bb191c744a8780abcc679599cf13"
          ]
        },
        "outputId": "5e6416be-4cad-454e-c9e8-c1ab45a69b95"
      },
      "outputs": [
        {
          "output_type": "display_data",
          "data": {
            "text/plain": [
              "Filter:   0%|          | 0/98 [00:00<?, ? examples/s]"
            ],
            "application/vnd.jupyter.widget-view+json": {
              "version_major": 2,
              "version_minor": 0,
              "model_id": "ff09916e45f34d7a81799927a865c01b"
            }
          },
          "metadata": {}
        },
        {
          "output_type": "stream",
          "name": "stdout",
          "text": [
            "Correct Answers: 4 | Correct Percentage: 16.666666666666664 | IQ: 0\n"
          ]
        }
      ],
      "source": [
        "mensa_sweden_answers = test_split(dataset,'MENSA Sweden', None, None, model, prompts['prompt_1'], processor)\n",
        "mensa_sweden_score = get_score(mensa_sweden_answers, dataset)\n",
        "print(f'Correct Answers: {mensa_sweden_score[0]} | Correct Percentage: {mensa_sweden_score[1]} | IQ: {mensa_sweden_score[2]}' )"
      ]
    },
    {
      "cell_type": "code",
      "source": [
        "with open(\"mensa-sweden-answers.json\", \"w\") as out_file:\n",
        "  for ans in mensa_sweden_answers:\n",
        "    json_line = json.dumps(ans)\n",
        "    out_file.write(json_line + \"\\n\")"
      ],
      "metadata": {
        "id": "jsWgJlNR2yDW"
      },
      "execution_count": null,
      "outputs": []
    },
    {
      "cell_type": "markdown",
      "source": [
        "We start with MENSA Norway."
      ],
      "metadata": {
        "id": "ZECC1q3w98Gs"
      }
    },
    {
      "cell_type": "code",
      "source": [
        "mensa_norway_answers_2 = test_split(dataset,'MENSA Norway', None, None, model, prompts['prompt_2'], processor)"
      ],
      "metadata": {
        "id": "TQTwDWx-8po7"
      },
      "execution_count": 21,
      "outputs": []
    },
    {
      "cell_type": "code",
      "source": [
        "mensa_norway_score_2 = get_score(mensa_norway_answers_2, dataset)\n",
        "print(f'Correct Answers: {mensa_norway_score_2[0]} | Correct Percentage: {mensa_norway_score_2[1]} | IQ: {mensa_norway_score_2[2]}' )"
      ],
      "metadata": {
        "colab": {
          "base_uri": "https://localhost:8080/"
        },
        "id": "Z-Bd-D-x9bDo",
        "outputId": "9a5816a1-14f1-487b-c458-039caa6c1a7b"
      },
      "execution_count": 22,
      "outputs": [
        {
          "output_type": "stream",
          "name": "stdout",
          "text": [
            "Correct Answers: 5 | Correct Percentage: 14.285714285714285 | IQ: 0\n"
          ]
        }
      ]
    },
    {
      "cell_type": "markdown",
      "source": [
        "MENSA Denmark:"
      ],
      "metadata": {
        "id": "hse7AI7F-ASt"
      }
    },
    {
      "cell_type": "code",
      "source": [
        "mensa_denmark_answers_2 = test_split(dataset,'MENSA Denmark', None, None, model, prompts['prompt_2'], processor)\n",
        "mensa_denmark_score_2 = get_score(mensa_denmark_answers_2, dataset)\n",
        "print(f'Correct Answers: {mensa_denmark_score_2[0]} | Correct Percentage: {mensa_denmark_score_2[1]} | IQ: {mensa_denmark_score_2[2]}' )"
      ],
      "metadata": {
        "colab": {
          "base_uri": "https://localhost:8080/"
        },
        "id": "dScrCHcn-DXa",
        "outputId": "a2cb6670-e46e-47aa-b08c-52f00ce5a81e"
      },
      "execution_count": 23,
      "outputs": [
        {
          "output_type": "stream",
          "name": "stdout",
          "text": [
            "Correct Answers: 4 | Correct Percentage: 10.256410256410255 | IQ: 0\n"
          ]
        }
      ]
    },
    {
      "cell_type": "markdown",
      "source": [
        "MENSA Sweden:"
      ],
      "metadata": {
        "id": "6e3jTPaf-uAU"
      }
    },
    {
      "cell_type": "code",
      "source": [
        "mensa_sweden_answers_2 = test_split(dataset,'MENSA Sweden', None, None, model, prompts['prompt_2'], processor)\n",
        "mensa_sweden_score_2 = get_score(mensa_sweden_answers_2, dataset)\n",
        "print(f'Correct Answers: {mensa_sweden_score_2[0]} | Correct Percentage: {mensa_sweden_score_2[1]} | IQ: {mensa_sweden_score_2[2]}' )"
      ],
      "metadata": {
        "colab": {
          "base_uri": "https://localhost:8080/"
        },
        "id": "nO-qCguF-wxL",
        "outputId": "b6cc2833-b0ac-439d-8a93-e6aa3ad0f956"
      },
      "execution_count": 24,
      "outputs": [
        {
          "output_type": "stream",
          "name": "stdout",
          "text": [
            "Correct Answers: 3 | Correct Percentage: 12.5 | IQ: 0\n"
          ]
        }
      ]
    },
    {
      "cell_type": "markdown",
      "source": [
        "As we can see, we have a decrease in accuracy for MENSA Norway and Sweden, but there is an improvement for MENSA Denmark. WRITE DOWN PERCENTAGE IN CHANGES."
      ],
      "metadata": {
        "id": "3AO7tqA6Bk4u"
      }
    },
    {
      "cell_type": "markdown",
      "metadata": {
        "id": "h3QCyJR0tugb"
      },
      "source": [
        "TO DO:\n",
        "- Impara onedb\n",
        "- Calcolare punteggio in base alla difficoltà 1\n",
        "- Prompt in cui specifichiamo la difficoltà. 1\n",
        "- Prompt in cui specifichi il tono.(ruolo) 1\n",
        "- Prompt in cui descrivo meglio l'immagine. 1\n",
        "- Altre strategie di decoding.(set seed 42) 1\n",
        "  - Beam search\n",
        "  - Top p sampling con p = default\n",
        "- Suddividi dataset in subset. 0\n",
        "- In context learning: separa in base a metodo risolutivo, mostrali una possibile soluzione e riprova testare. 0\n",
        "- Aggiungere memoria tramite embedding, per risolvere problemi simili. Salvo risposta data. 0\n",
        "- Change from json to dict first functions.\n",
        "- Define a proper structure for the answers, by changing functions and saving the obtained values in a json file.**testo in grassetto**\n",
        "- Modify test_split so that it also takes model and split as arguments(Also prompt strategy?) Don't use json?\n",
        "- solve dataset problem\n",
        "- Define function to get percentage of correct answers.\n",
        "  - How to measure iq score? 1\n",
        "- Attentio map visualization 0\n",
        "- Qwenv2-7b\n",
        "- Test Molmo 1B, 7B\n",
        "- Test pixtral 12B\n",
        "- Test llama 3.2 vision 11B(vpn?)\n",
        "- ChatGPT 3\n",
        "- llm as a judge to test explanations 0\n",
        "- I problemi facili con una strategia di decoding, quelli più difficili con un' altra. 0"
      ]
    },
    {
      "cell_type": "code",
      "source": [],
      "metadata": {
        "id": "pRFECan69_X9"
      },
      "execution_count": null,
      "outputs": []
    },
    {
      "cell_type": "markdown",
      "source": [
        "- Prompt in qui specifichi difficoltà\n",
        "- Quanto tempo ci mette a risolvere"
      ],
      "metadata": {
        "id": "Ox6BwxvJ9_7h"
      }
    },
    {
      "cell_type": "markdown",
      "source": [
        "MENSA Norway -> each correct answer has value 1. The range of the score is 85-145, 100 being the average"
      ],
      "metadata": {
        "id": "9FJ5G1-StnBD"
      }
    },
    {
      "cell_type": "code",
      "execution_count": null,
      "metadata": {
        "id": "iUWB_OyNyqnN"
      },
      "outputs": [],
      "source": []
    }
  ],
  "metadata": {
    "accelerator": "GPU",
    "colab": {
      "gpuType": "T4",
      "provenance": [],
      "authorship_tag": "ABX9TyOa8S5ntu4FGUcghI4WcHMw",
      "include_colab_link": true
    },
    "kernelspec": {
      "display_name": "Python 3",
      "name": "python3"
    },
    "language_info": {
      "name": "python"
    },
    "widgets": {
      "application/vnd.jupyter.widget-state+json": {
        "56e8d136f7a24a1fa5a9834e98938a03": {
          "model_module": "@jupyter-widgets/controls",
          "model_name": "HBoxModel",
          "model_module_version": "1.5.0",
          "state": {
            "_dom_classes": [],
            "_model_module": "@jupyter-widgets/controls",
            "_model_module_version": "1.5.0",
            "_model_name": "HBoxModel",
            "_view_count": null,
            "_view_module": "@jupyter-widgets/controls",
            "_view_module_version": "1.5.0",
            "_view_name": "HBoxView",
            "box_style": "",
            "children": [
              "IPY_MODEL_d59ce0370b224baa9848407dbb6a6e5b",
              "IPY_MODEL_691807c8bf63462fafc8e8f18bd63298",
              "IPY_MODEL_33bc54e345ac4a20a7cea96c7bc02a6a"
            ],
            "layout": "IPY_MODEL_75d9d3f273e3402385840f3e44bf4e2d"
          }
        },
        "d59ce0370b224baa9848407dbb6a6e5b": {
          "model_module": "@jupyter-widgets/controls",
          "model_name": "HTMLModel",
          "model_module_version": "1.5.0",
          "state": {
            "_dom_classes": [],
            "_model_module": "@jupyter-widgets/controls",
            "_model_module_version": "1.5.0",
            "_model_name": "HTMLModel",
            "_view_count": null,
            "_view_module": "@jupyter-widgets/controls",
            "_view_module_version": "1.5.0",
            "_view_name": "HTMLView",
            "description": "",
            "description_tooltip": null,
            "layout": "IPY_MODEL_18bf52dca44d478981100d8a20c65382",
            "placeholder": "​",
            "style": "IPY_MODEL_b4ec1c154f714235bb30e17138486426",
            "value": "Loading checkpoint shards: 100%"
          }
        },
        "691807c8bf63462fafc8e8f18bd63298": {
          "model_module": "@jupyter-widgets/controls",
          "model_name": "FloatProgressModel",
          "model_module_version": "1.5.0",
          "state": {
            "_dom_classes": [],
            "_model_module": "@jupyter-widgets/controls",
            "_model_module_version": "1.5.0",
            "_model_name": "FloatProgressModel",
            "_view_count": null,
            "_view_module": "@jupyter-widgets/controls",
            "_view_module_version": "1.5.0",
            "_view_name": "ProgressView",
            "bar_style": "success",
            "description": "",
            "description_tooltip": null,
            "layout": "IPY_MODEL_78caa6239baf4900afea7f72b50cd589",
            "max": 2,
            "min": 0,
            "orientation": "horizontal",
            "style": "IPY_MODEL_8861d3c8f266454b90d9746af4c131fd",
            "value": 2
          }
        },
        "33bc54e345ac4a20a7cea96c7bc02a6a": {
          "model_module": "@jupyter-widgets/controls",
          "model_name": "HTMLModel",
          "model_module_version": "1.5.0",
          "state": {
            "_dom_classes": [],
            "_model_module": "@jupyter-widgets/controls",
            "_model_module_version": "1.5.0",
            "_model_name": "HTMLModel",
            "_view_count": null,
            "_view_module": "@jupyter-widgets/controls",
            "_view_module_version": "1.5.0",
            "_view_name": "HTMLView",
            "description": "",
            "description_tooltip": null,
            "layout": "IPY_MODEL_3848ffe2ebe843f68fb904ab50b2d448",
            "placeholder": "​",
            "style": "IPY_MODEL_9460975c49e242bc9fbaeba98c3c5c3a",
            "value": " 2/2 [00:20&lt;00:00,  8.86s/it]"
          }
        },
        "75d9d3f273e3402385840f3e44bf4e2d": {
          "model_module": "@jupyter-widgets/base",
          "model_name": "LayoutModel",
          "model_module_version": "1.2.0",
          "state": {
            "_model_module": "@jupyter-widgets/base",
            "_model_module_version": "1.2.0",
            "_model_name": "LayoutModel",
            "_view_count": null,
            "_view_module": "@jupyter-widgets/base",
            "_view_module_version": "1.2.0",
            "_view_name": "LayoutView",
            "align_content": null,
            "align_items": null,
            "align_self": null,
            "border": null,
            "bottom": null,
            "display": null,
            "flex": null,
            "flex_flow": null,
            "grid_area": null,
            "grid_auto_columns": null,
            "grid_auto_flow": null,
            "grid_auto_rows": null,
            "grid_column": null,
            "grid_gap": null,
            "grid_row": null,
            "grid_template_areas": null,
            "grid_template_columns": null,
            "grid_template_rows": null,
            "height": null,
            "justify_content": null,
            "justify_items": null,
            "left": null,
            "margin": null,
            "max_height": null,
            "max_width": null,
            "min_height": null,
            "min_width": null,
            "object_fit": null,
            "object_position": null,
            "order": null,
            "overflow": null,
            "overflow_x": null,
            "overflow_y": null,
            "padding": null,
            "right": null,
            "top": null,
            "visibility": null,
            "width": null
          }
        },
        "18bf52dca44d478981100d8a20c65382": {
          "model_module": "@jupyter-widgets/base",
          "model_name": "LayoutModel",
          "model_module_version": "1.2.0",
          "state": {
            "_model_module": "@jupyter-widgets/base",
            "_model_module_version": "1.2.0",
            "_model_name": "LayoutModel",
            "_view_count": null,
            "_view_module": "@jupyter-widgets/base",
            "_view_module_version": "1.2.0",
            "_view_name": "LayoutView",
            "align_content": null,
            "align_items": null,
            "align_self": null,
            "border": null,
            "bottom": null,
            "display": null,
            "flex": null,
            "flex_flow": null,
            "grid_area": null,
            "grid_auto_columns": null,
            "grid_auto_flow": null,
            "grid_auto_rows": null,
            "grid_column": null,
            "grid_gap": null,
            "grid_row": null,
            "grid_template_areas": null,
            "grid_template_columns": null,
            "grid_template_rows": null,
            "height": null,
            "justify_content": null,
            "justify_items": null,
            "left": null,
            "margin": null,
            "max_height": null,
            "max_width": null,
            "min_height": null,
            "min_width": null,
            "object_fit": null,
            "object_position": null,
            "order": null,
            "overflow": null,
            "overflow_x": null,
            "overflow_y": null,
            "padding": null,
            "right": null,
            "top": null,
            "visibility": null,
            "width": null
          }
        },
        "b4ec1c154f714235bb30e17138486426": {
          "model_module": "@jupyter-widgets/controls",
          "model_name": "DescriptionStyleModel",
          "model_module_version": "1.5.0",
          "state": {
            "_model_module": "@jupyter-widgets/controls",
            "_model_module_version": "1.5.0",
            "_model_name": "DescriptionStyleModel",
            "_view_count": null,
            "_view_module": "@jupyter-widgets/base",
            "_view_module_version": "1.2.0",
            "_view_name": "StyleView",
            "description_width": ""
          }
        },
        "78caa6239baf4900afea7f72b50cd589": {
          "model_module": "@jupyter-widgets/base",
          "model_name": "LayoutModel",
          "model_module_version": "1.2.0",
          "state": {
            "_model_module": "@jupyter-widgets/base",
            "_model_module_version": "1.2.0",
            "_model_name": "LayoutModel",
            "_view_count": null,
            "_view_module": "@jupyter-widgets/base",
            "_view_module_version": "1.2.0",
            "_view_name": "LayoutView",
            "align_content": null,
            "align_items": null,
            "align_self": null,
            "border": null,
            "bottom": null,
            "display": null,
            "flex": null,
            "flex_flow": null,
            "grid_area": null,
            "grid_auto_columns": null,
            "grid_auto_flow": null,
            "grid_auto_rows": null,
            "grid_column": null,
            "grid_gap": null,
            "grid_row": null,
            "grid_template_areas": null,
            "grid_template_columns": null,
            "grid_template_rows": null,
            "height": null,
            "justify_content": null,
            "justify_items": null,
            "left": null,
            "margin": null,
            "max_height": null,
            "max_width": null,
            "min_height": null,
            "min_width": null,
            "object_fit": null,
            "object_position": null,
            "order": null,
            "overflow": null,
            "overflow_x": null,
            "overflow_y": null,
            "padding": null,
            "right": null,
            "top": null,
            "visibility": null,
            "width": null
          }
        },
        "8861d3c8f266454b90d9746af4c131fd": {
          "model_module": "@jupyter-widgets/controls",
          "model_name": "ProgressStyleModel",
          "model_module_version": "1.5.0",
          "state": {
            "_model_module": "@jupyter-widgets/controls",
            "_model_module_version": "1.5.0",
            "_model_name": "ProgressStyleModel",
            "_view_count": null,
            "_view_module": "@jupyter-widgets/base",
            "_view_module_version": "1.2.0",
            "_view_name": "StyleView",
            "bar_color": null,
            "description_width": ""
          }
        },
        "3848ffe2ebe843f68fb904ab50b2d448": {
          "model_module": "@jupyter-widgets/base",
          "model_name": "LayoutModel",
          "model_module_version": "1.2.0",
          "state": {
            "_model_module": "@jupyter-widgets/base",
            "_model_module_version": "1.2.0",
            "_model_name": "LayoutModel",
            "_view_count": null,
            "_view_module": "@jupyter-widgets/base",
            "_view_module_version": "1.2.0",
            "_view_name": "LayoutView",
            "align_content": null,
            "align_items": null,
            "align_self": null,
            "border": null,
            "bottom": null,
            "display": null,
            "flex": null,
            "flex_flow": null,
            "grid_area": null,
            "grid_auto_columns": null,
            "grid_auto_flow": null,
            "grid_auto_rows": null,
            "grid_column": null,
            "grid_gap": null,
            "grid_row": null,
            "grid_template_areas": null,
            "grid_template_columns": null,
            "grid_template_rows": null,
            "height": null,
            "justify_content": null,
            "justify_items": null,
            "left": null,
            "margin": null,
            "max_height": null,
            "max_width": null,
            "min_height": null,
            "min_width": null,
            "object_fit": null,
            "object_position": null,
            "order": null,
            "overflow": null,
            "overflow_x": null,
            "overflow_y": null,
            "padding": null,
            "right": null,
            "top": null,
            "visibility": null,
            "width": null
          }
        },
        "9460975c49e242bc9fbaeba98c3c5c3a": {
          "model_module": "@jupyter-widgets/controls",
          "model_name": "DescriptionStyleModel",
          "model_module_version": "1.5.0",
          "state": {
            "_model_module": "@jupyter-widgets/controls",
            "_model_module_version": "1.5.0",
            "_model_name": "DescriptionStyleModel",
            "_view_count": null,
            "_view_module": "@jupyter-widgets/base",
            "_view_module_version": "1.2.0",
            "_view_name": "StyleView",
            "description_width": ""
          }
        },
        "d87b7cc6f888477c9c26bad34df26330": {
          "model_module": "@jupyter-widgets/controls",
          "model_name": "HBoxModel",
          "model_module_version": "1.5.0",
          "state": {
            "_dom_classes": [],
            "_model_module": "@jupyter-widgets/controls",
            "_model_module_version": "1.5.0",
            "_model_name": "HBoxModel",
            "_view_count": null,
            "_view_module": "@jupyter-widgets/controls",
            "_view_module_version": "1.5.0",
            "_view_name": "HBoxView",
            "box_style": "",
            "children": [
              "IPY_MODEL_c10b136e02d34505a621461da9642f57",
              "IPY_MODEL_de063feb0db647ae945a4f31e49b3e06",
              "IPY_MODEL_e8b0568ad1e24cbf8ffb16f7089cd316"
            ],
            "layout": "IPY_MODEL_f95f06b0c7454a9693442b00380d0598"
          }
        },
        "c10b136e02d34505a621461da9642f57": {
          "model_module": "@jupyter-widgets/controls",
          "model_name": "HTMLModel",
          "model_module_version": "1.5.0",
          "state": {
            "_dom_classes": [],
            "_model_module": "@jupyter-widgets/controls",
            "_model_module_version": "1.5.0",
            "_model_name": "HTMLModel",
            "_view_count": null,
            "_view_module": "@jupyter-widgets/controls",
            "_view_module_version": "1.5.0",
            "_view_name": "HTMLView",
            "description": "",
            "description_tooltip": null,
            "layout": "IPY_MODEL_9ae424d81cf6473aafd9acb1c53970e0",
            "placeholder": "​",
            "style": "IPY_MODEL_3bc07372c551403faf5d2fefc132e64c",
            "value": "Filter: 100%"
          }
        },
        "de063feb0db647ae945a4f31e49b3e06": {
          "model_module": "@jupyter-widgets/controls",
          "model_name": "FloatProgressModel",
          "model_module_version": "1.5.0",
          "state": {
            "_dom_classes": [],
            "_model_module": "@jupyter-widgets/controls",
            "_model_module_version": "1.5.0",
            "_model_name": "FloatProgressModel",
            "_view_count": null,
            "_view_module": "@jupyter-widgets/controls",
            "_view_module_version": "1.5.0",
            "_view_name": "ProgressView",
            "bar_style": "success",
            "description": "",
            "description_tooltip": null,
            "layout": "IPY_MODEL_3bde0398743e4fe695bbd32f9324a8ee",
            "max": 98,
            "min": 0,
            "orientation": "horizontal",
            "style": "IPY_MODEL_c5f4a66827ee46b08953e6860b173627",
            "value": 98
          }
        },
        "e8b0568ad1e24cbf8ffb16f7089cd316": {
          "model_module": "@jupyter-widgets/controls",
          "model_name": "HTMLModel",
          "model_module_version": "1.5.0",
          "state": {
            "_dom_classes": [],
            "_model_module": "@jupyter-widgets/controls",
            "_model_module_version": "1.5.0",
            "_model_name": "HTMLModel",
            "_view_count": null,
            "_view_module": "@jupyter-widgets/controls",
            "_view_module_version": "1.5.0",
            "_view_name": "HTMLView",
            "description": "",
            "description_tooltip": null,
            "layout": "IPY_MODEL_43a21442fac34e0994f5f756da31007b",
            "placeholder": "​",
            "style": "IPY_MODEL_873c5afdd50345e7b8f9809e46ba999b",
            "value": " 98/98 [00:00&lt;00:00, 105.46 examples/s]"
          }
        },
        "f95f06b0c7454a9693442b00380d0598": {
          "model_module": "@jupyter-widgets/base",
          "model_name": "LayoutModel",
          "model_module_version": "1.2.0",
          "state": {
            "_model_module": "@jupyter-widgets/base",
            "_model_module_version": "1.2.0",
            "_model_name": "LayoutModel",
            "_view_count": null,
            "_view_module": "@jupyter-widgets/base",
            "_view_module_version": "1.2.0",
            "_view_name": "LayoutView",
            "align_content": null,
            "align_items": null,
            "align_self": null,
            "border": null,
            "bottom": null,
            "display": null,
            "flex": null,
            "flex_flow": null,
            "grid_area": null,
            "grid_auto_columns": null,
            "grid_auto_flow": null,
            "grid_auto_rows": null,
            "grid_column": null,
            "grid_gap": null,
            "grid_row": null,
            "grid_template_areas": null,
            "grid_template_columns": null,
            "grid_template_rows": null,
            "height": null,
            "justify_content": null,
            "justify_items": null,
            "left": null,
            "margin": null,
            "max_height": null,
            "max_width": null,
            "min_height": null,
            "min_width": null,
            "object_fit": null,
            "object_position": null,
            "order": null,
            "overflow": null,
            "overflow_x": null,
            "overflow_y": null,
            "padding": null,
            "right": null,
            "top": null,
            "visibility": null,
            "width": null
          }
        },
        "9ae424d81cf6473aafd9acb1c53970e0": {
          "model_module": "@jupyter-widgets/base",
          "model_name": "LayoutModel",
          "model_module_version": "1.2.0",
          "state": {
            "_model_module": "@jupyter-widgets/base",
            "_model_module_version": "1.2.0",
            "_model_name": "LayoutModel",
            "_view_count": null,
            "_view_module": "@jupyter-widgets/base",
            "_view_module_version": "1.2.0",
            "_view_name": "LayoutView",
            "align_content": null,
            "align_items": null,
            "align_self": null,
            "border": null,
            "bottom": null,
            "display": null,
            "flex": null,
            "flex_flow": null,
            "grid_area": null,
            "grid_auto_columns": null,
            "grid_auto_flow": null,
            "grid_auto_rows": null,
            "grid_column": null,
            "grid_gap": null,
            "grid_row": null,
            "grid_template_areas": null,
            "grid_template_columns": null,
            "grid_template_rows": null,
            "height": null,
            "justify_content": null,
            "justify_items": null,
            "left": null,
            "margin": null,
            "max_height": null,
            "max_width": null,
            "min_height": null,
            "min_width": null,
            "object_fit": null,
            "object_position": null,
            "order": null,
            "overflow": null,
            "overflow_x": null,
            "overflow_y": null,
            "padding": null,
            "right": null,
            "top": null,
            "visibility": null,
            "width": null
          }
        },
        "3bc07372c551403faf5d2fefc132e64c": {
          "model_module": "@jupyter-widgets/controls",
          "model_name": "DescriptionStyleModel",
          "model_module_version": "1.5.0",
          "state": {
            "_model_module": "@jupyter-widgets/controls",
            "_model_module_version": "1.5.0",
            "_model_name": "DescriptionStyleModel",
            "_view_count": null,
            "_view_module": "@jupyter-widgets/base",
            "_view_module_version": "1.2.0",
            "_view_name": "StyleView",
            "description_width": ""
          }
        },
        "3bde0398743e4fe695bbd32f9324a8ee": {
          "model_module": "@jupyter-widgets/base",
          "model_name": "LayoutModel",
          "model_module_version": "1.2.0",
          "state": {
            "_model_module": "@jupyter-widgets/base",
            "_model_module_version": "1.2.0",
            "_model_name": "LayoutModel",
            "_view_count": null,
            "_view_module": "@jupyter-widgets/base",
            "_view_module_version": "1.2.0",
            "_view_name": "LayoutView",
            "align_content": null,
            "align_items": null,
            "align_self": null,
            "border": null,
            "bottom": null,
            "display": null,
            "flex": null,
            "flex_flow": null,
            "grid_area": null,
            "grid_auto_columns": null,
            "grid_auto_flow": null,
            "grid_auto_rows": null,
            "grid_column": null,
            "grid_gap": null,
            "grid_row": null,
            "grid_template_areas": null,
            "grid_template_columns": null,
            "grid_template_rows": null,
            "height": null,
            "justify_content": null,
            "justify_items": null,
            "left": null,
            "margin": null,
            "max_height": null,
            "max_width": null,
            "min_height": null,
            "min_width": null,
            "object_fit": null,
            "object_position": null,
            "order": null,
            "overflow": null,
            "overflow_x": null,
            "overflow_y": null,
            "padding": null,
            "right": null,
            "top": null,
            "visibility": null,
            "width": null
          }
        },
        "c5f4a66827ee46b08953e6860b173627": {
          "model_module": "@jupyter-widgets/controls",
          "model_name": "ProgressStyleModel",
          "model_module_version": "1.5.0",
          "state": {
            "_model_module": "@jupyter-widgets/controls",
            "_model_module_version": "1.5.0",
            "_model_name": "ProgressStyleModel",
            "_view_count": null,
            "_view_module": "@jupyter-widgets/base",
            "_view_module_version": "1.2.0",
            "_view_name": "StyleView",
            "bar_color": null,
            "description_width": ""
          }
        },
        "43a21442fac34e0994f5f756da31007b": {
          "model_module": "@jupyter-widgets/base",
          "model_name": "LayoutModel",
          "model_module_version": "1.2.0",
          "state": {
            "_model_module": "@jupyter-widgets/base",
            "_model_module_version": "1.2.0",
            "_model_name": "LayoutModel",
            "_view_count": null,
            "_view_module": "@jupyter-widgets/base",
            "_view_module_version": "1.2.0",
            "_view_name": "LayoutView",
            "align_content": null,
            "align_items": null,
            "align_self": null,
            "border": null,
            "bottom": null,
            "display": null,
            "flex": null,
            "flex_flow": null,
            "grid_area": null,
            "grid_auto_columns": null,
            "grid_auto_flow": null,
            "grid_auto_rows": null,
            "grid_column": null,
            "grid_gap": null,
            "grid_row": null,
            "grid_template_areas": null,
            "grid_template_columns": null,
            "grid_template_rows": null,
            "height": null,
            "justify_content": null,
            "justify_items": null,
            "left": null,
            "margin": null,
            "max_height": null,
            "max_width": null,
            "min_height": null,
            "min_width": null,
            "object_fit": null,
            "object_position": null,
            "order": null,
            "overflow": null,
            "overflow_x": null,
            "overflow_y": null,
            "padding": null,
            "right": null,
            "top": null,
            "visibility": null,
            "width": null
          }
        },
        "873c5afdd50345e7b8f9809e46ba999b": {
          "model_module": "@jupyter-widgets/controls",
          "model_name": "DescriptionStyleModel",
          "model_module_version": "1.5.0",
          "state": {
            "_model_module": "@jupyter-widgets/controls",
            "_model_module_version": "1.5.0",
            "_model_name": "DescriptionStyleModel",
            "_view_count": null,
            "_view_module": "@jupyter-widgets/base",
            "_view_module_version": "1.2.0",
            "_view_name": "StyleView",
            "description_width": ""
          }
        },
        "ff09916e45f34d7a81799927a865c01b": {
          "model_module": "@jupyter-widgets/controls",
          "model_name": "HBoxModel",
          "model_module_version": "1.5.0",
          "state": {
            "_dom_classes": [],
            "_model_module": "@jupyter-widgets/controls",
            "_model_module_version": "1.5.0",
            "_model_name": "HBoxModel",
            "_view_count": null,
            "_view_module": "@jupyter-widgets/controls",
            "_view_module_version": "1.5.0",
            "_view_name": "HBoxView",
            "box_style": "",
            "children": [
              "IPY_MODEL_ee7e8d363f0e4583a9a9501664de0ae1",
              "IPY_MODEL_324ea1f0b68b453fb2a7cae38581ea91",
              "IPY_MODEL_351dafe747e24a44bfc1bb7ac62a49ca"
            ],
            "layout": "IPY_MODEL_b75f524aee204c8a9be3702a322e2a22"
          }
        },
        "ee7e8d363f0e4583a9a9501664de0ae1": {
          "model_module": "@jupyter-widgets/controls",
          "model_name": "HTMLModel",
          "model_module_version": "1.5.0",
          "state": {
            "_dom_classes": [],
            "_model_module": "@jupyter-widgets/controls",
            "_model_module_version": "1.5.0",
            "_model_name": "HTMLModel",
            "_view_count": null,
            "_view_module": "@jupyter-widgets/controls",
            "_view_module_version": "1.5.0",
            "_view_name": "HTMLView",
            "description": "",
            "description_tooltip": null,
            "layout": "IPY_MODEL_99b7ecba9986481e8f10b3c18f8f8dce",
            "placeholder": "​",
            "style": "IPY_MODEL_986ffe00f7ba440b82953041058e5a82",
            "value": "Filter: 100%"
          }
        },
        "324ea1f0b68b453fb2a7cae38581ea91": {
          "model_module": "@jupyter-widgets/controls",
          "model_name": "FloatProgressModel",
          "model_module_version": "1.5.0",
          "state": {
            "_dom_classes": [],
            "_model_module": "@jupyter-widgets/controls",
            "_model_module_version": "1.5.0",
            "_model_name": "FloatProgressModel",
            "_view_count": null,
            "_view_module": "@jupyter-widgets/controls",
            "_view_module_version": "1.5.0",
            "_view_name": "ProgressView",
            "bar_style": "success",
            "description": "",
            "description_tooltip": null,
            "layout": "IPY_MODEL_333b9cfc2398463d8632a37271a2e9a6",
            "max": 98,
            "min": 0,
            "orientation": "horizontal",
            "style": "IPY_MODEL_5584b2f8c9ea4d61a1fed5dcfa9a2ce9",
            "value": 98
          }
        },
        "351dafe747e24a44bfc1bb7ac62a49ca": {
          "model_module": "@jupyter-widgets/controls",
          "model_name": "HTMLModel",
          "model_module_version": "1.5.0",
          "state": {
            "_dom_classes": [],
            "_model_module": "@jupyter-widgets/controls",
            "_model_module_version": "1.5.0",
            "_model_name": "HTMLModel",
            "_view_count": null,
            "_view_module": "@jupyter-widgets/controls",
            "_view_module_version": "1.5.0",
            "_view_name": "HTMLView",
            "description": "",
            "description_tooltip": null,
            "layout": "IPY_MODEL_bed89c30aa6c4817b03b95039a1c5d01",
            "placeholder": "​",
            "style": "IPY_MODEL_9004bb191c744a8780abcc679599cf13",
            "value": " 98/98 [00:01&lt;00:00, 87.63 examples/s]"
          }
        },
        "b75f524aee204c8a9be3702a322e2a22": {
          "model_module": "@jupyter-widgets/base",
          "model_name": "LayoutModel",
          "model_module_version": "1.2.0",
          "state": {
            "_model_module": "@jupyter-widgets/base",
            "_model_module_version": "1.2.0",
            "_model_name": "LayoutModel",
            "_view_count": null,
            "_view_module": "@jupyter-widgets/base",
            "_view_module_version": "1.2.0",
            "_view_name": "LayoutView",
            "align_content": null,
            "align_items": null,
            "align_self": null,
            "border": null,
            "bottom": null,
            "display": null,
            "flex": null,
            "flex_flow": null,
            "grid_area": null,
            "grid_auto_columns": null,
            "grid_auto_flow": null,
            "grid_auto_rows": null,
            "grid_column": null,
            "grid_gap": null,
            "grid_row": null,
            "grid_template_areas": null,
            "grid_template_columns": null,
            "grid_template_rows": null,
            "height": null,
            "justify_content": null,
            "justify_items": null,
            "left": null,
            "margin": null,
            "max_height": null,
            "max_width": null,
            "min_height": null,
            "min_width": null,
            "object_fit": null,
            "object_position": null,
            "order": null,
            "overflow": null,
            "overflow_x": null,
            "overflow_y": null,
            "padding": null,
            "right": null,
            "top": null,
            "visibility": null,
            "width": null
          }
        },
        "99b7ecba9986481e8f10b3c18f8f8dce": {
          "model_module": "@jupyter-widgets/base",
          "model_name": "LayoutModel",
          "model_module_version": "1.2.0",
          "state": {
            "_model_module": "@jupyter-widgets/base",
            "_model_module_version": "1.2.0",
            "_model_name": "LayoutModel",
            "_view_count": null,
            "_view_module": "@jupyter-widgets/base",
            "_view_module_version": "1.2.0",
            "_view_name": "LayoutView",
            "align_content": null,
            "align_items": null,
            "align_self": null,
            "border": null,
            "bottom": null,
            "display": null,
            "flex": null,
            "flex_flow": null,
            "grid_area": null,
            "grid_auto_columns": null,
            "grid_auto_flow": null,
            "grid_auto_rows": null,
            "grid_column": null,
            "grid_gap": null,
            "grid_row": null,
            "grid_template_areas": null,
            "grid_template_columns": null,
            "grid_template_rows": null,
            "height": null,
            "justify_content": null,
            "justify_items": null,
            "left": null,
            "margin": null,
            "max_height": null,
            "max_width": null,
            "min_height": null,
            "min_width": null,
            "object_fit": null,
            "object_position": null,
            "order": null,
            "overflow": null,
            "overflow_x": null,
            "overflow_y": null,
            "padding": null,
            "right": null,
            "top": null,
            "visibility": null,
            "width": null
          }
        },
        "986ffe00f7ba440b82953041058e5a82": {
          "model_module": "@jupyter-widgets/controls",
          "model_name": "DescriptionStyleModel",
          "model_module_version": "1.5.0",
          "state": {
            "_model_module": "@jupyter-widgets/controls",
            "_model_module_version": "1.5.0",
            "_model_name": "DescriptionStyleModel",
            "_view_count": null,
            "_view_module": "@jupyter-widgets/base",
            "_view_module_version": "1.2.0",
            "_view_name": "StyleView",
            "description_width": ""
          }
        },
        "333b9cfc2398463d8632a37271a2e9a6": {
          "model_module": "@jupyter-widgets/base",
          "model_name": "LayoutModel",
          "model_module_version": "1.2.0",
          "state": {
            "_model_module": "@jupyter-widgets/base",
            "_model_module_version": "1.2.0",
            "_model_name": "LayoutModel",
            "_view_count": null,
            "_view_module": "@jupyter-widgets/base",
            "_view_module_version": "1.2.0",
            "_view_name": "LayoutView",
            "align_content": null,
            "align_items": null,
            "align_self": null,
            "border": null,
            "bottom": null,
            "display": null,
            "flex": null,
            "flex_flow": null,
            "grid_area": null,
            "grid_auto_columns": null,
            "grid_auto_flow": null,
            "grid_auto_rows": null,
            "grid_column": null,
            "grid_gap": null,
            "grid_row": null,
            "grid_template_areas": null,
            "grid_template_columns": null,
            "grid_template_rows": null,
            "height": null,
            "justify_content": null,
            "justify_items": null,
            "left": null,
            "margin": null,
            "max_height": null,
            "max_width": null,
            "min_height": null,
            "min_width": null,
            "object_fit": null,
            "object_position": null,
            "order": null,
            "overflow": null,
            "overflow_x": null,
            "overflow_y": null,
            "padding": null,
            "right": null,
            "top": null,
            "visibility": null,
            "width": null
          }
        },
        "5584b2f8c9ea4d61a1fed5dcfa9a2ce9": {
          "model_module": "@jupyter-widgets/controls",
          "model_name": "ProgressStyleModel",
          "model_module_version": "1.5.0",
          "state": {
            "_model_module": "@jupyter-widgets/controls",
            "_model_module_version": "1.5.0",
            "_model_name": "ProgressStyleModel",
            "_view_count": null,
            "_view_module": "@jupyter-widgets/base",
            "_view_module_version": "1.2.0",
            "_view_name": "StyleView",
            "bar_color": null,
            "description_width": ""
          }
        },
        "bed89c30aa6c4817b03b95039a1c5d01": {
          "model_module": "@jupyter-widgets/base",
          "model_name": "LayoutModel",
          "model_module_version": "1.2.0",
          "state": {
            "_model_module": "@jupyter-widgets/base",
            "_model_module_version": "1.2.0",
            "_model_name": "LayoutModel",
            "_view_count": null,
            "_view_module": "@jupyter-widgets/base",
            "_view_module_version": "1.2.0",
            "_view_name": "LayoutView",
            "align_content": null,
            "align_items": null,
            "align_self": null,
            "border": null,
            "bottom": null,
            "display": null,
            "flex": null,
            "flex_flow": null,
            "grid_area": null,
            "grid_auto_columns": null,
            "grid_auto_flow": null,
            "grid_auto_rows": null,
            "grid_column": null,
            "grid_gap": null,
            "grid_row": null,
            "grid_template_areas": null,
            "grid_template_columns": null,
            "grid_template_rows": null,
            "height": null,
            "justify_content": null,
            "justify_items": null,
            "left": null,
            "margin": null,
            "max_height": null,
            "max_width": null,
            "min_height": null,
            "min_width": null,
            "object_fit": null,
            "object_position": null,
            "order": null,
            "overflow": null,
            "overflow_x": null,
            "overflow_y": null,
            "padding": null,
            "right": null,
            "top": null,
            "visibility": null,
            "width": null
          }
        },
        "9004bb191c744a8780abcc679599cf13": {
          "model_module": "@jupyter-widgets/controls",
          "model_name": "DescriptionStyleModel",
          "model_module_version": "1.5.0",
          "state": {
            "_model_module": "@jupyter-widgets/controls",
            "_model_module_version": "1.5.0",
            "_model_name": "DescriptionStyleModel",
            "_view_count": null,
            "_view_module": "@jupyter-widgets/base",
            "_view_module_version": "1.2.0",
            "_view_name": "StyleView",
            "description_width": ""
          }
        }
      }
    }
  },
  "nbformat": 4,
  "nbformat_minor": 0
}